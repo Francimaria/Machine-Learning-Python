{
  "nbformat": 4,
  "nbformat_minor": 0,
  "metadata": {
    "colab": {
      "name": "missao9.ipynb",
      "provenance": [],
      "authorship_tag": "ABX9TyMK3LketcIuoNxwp4EbbGGL"
    },
    "kernelspec": {
      "name": "python3",
      "display_name": "Python 3"
    }
  },
  "cells": [
    {
      "cell_type": "markdown",
      "metadata": {
        "id": "a5k5h-_RBBjQ",
        "colab_type": "text"
      },
      "source": [
        "**Experimentos ML -  Propor plano para a realização de experimentos de aprendizagem de máquina**\n",
        "\n",
        "*Considerando a base de dados Statlog (https://archive.ics.uci.edu/ml/datasets/Statlog+(Landsat+Satellite)). Apresentar plano para a realização de experimentos com os principais itens de acordo com os materiais do classroom e de pesquisas. Para cada item do plano, apresentar quais as escolhas/estratégias e também justificativa das mesmas.*"
      ]
    },
    {
      "cell_type": "code",
      "metadata": {
        "id": "nsgjK81dA9kG",
        "colab_type": "code",
        "colab": {}
      },
      "source": [
        "import pandas as pd "
      ],
      "execution_count": null,
      "outputs": []
    },
    {
      "cell_type": "code",
      "metadata": {
        "id": "PQYbpebLBRnJ",
        "colab_type": "code",
        "colab": {
          "base_uri": "https://localhost:8080/",
          "height": 156
        },
        "outputId": "e3584ade-2b3b-43fe-c786-fb1f5caa0d0c"
      },
      "source": [
        "#sat.trn - training set \n",
        "file_name = \"https://raw.githubusercontent.com/Francimaria/Machine-Learning-Python/master/sat.trn\"\n",
        "#sat.tst - test set\n",
        "file_name2 = \"https://raw.githubusercontent.com/Francimaria/Machine-Learning-Python/master/sat.tst\"\n",
        "\n",
        "sat_train = pd.read_csv(file_name, sep=\" \", header=None)\n",
        "sat_test = pd.read_csv(file_name2, sep=\" \", header=None)\n",
        "\n",
        "print(sat_train.head())"
      ],
      "execution_count": null,
      "outputs": [
        {
          "output_type": "stream",
          "text": [
            "   0    1    2   3   4    5    6   7   ...   29   30   31  32   33   34  35  36\n",
            "0  92  115  120  94  84  102  106  79  ...  121  128  100  84  107  113  87   3\n",
            "1  84  102  106  79  84  102  102  83  ...  107  113   87  84   99  104  79   3\n",
            "2  84  102  102  83  80  102  102  79  ...   99  104   79  84   99  104  79   3\n",
            "3  80  102  102  79  84   94  102  79  ...   99  104   79  84  103  104  79   3\n",
            "4  84   94  102  79  80   94   98  76  ...  103  104   79  79  107  109  87   3\n",
            "\n",
            "[5 rows x 37 columns]\n"
          ],
          "name": "stdout"
        }
      ]
    },
    {
      "cell_type": "code",
      "metadata": {
        "id": "auAJgilEEjqO",
        "colab_type": "code",
        "colab": {
          "base_uri": "https://localhost:8080/",
          "height": 139
        },
        "outputId": "b103e991-a337-4689-f061-3c73dac006df"
      },
      "source": [
        "X_train = sat_train.drop([sat_train.columns[-1]], axis=1)\n",
        "y_train = sat_train[sat_train.columns[-1]]\n",
        "\n",
        "y_train.value_counts()"
      ],
      "execution_count": null,
      "outputs": [
        {
          "output_type": "execute_result",
          "data": {
            "text/plain": [
              "1    1072\n",
              "7    1038\n",
              "3     961\n",
              "2     479\n",
              "5     470\n",
              "4     415\n",
              "Name: 36, dtype: int64"
            ]
          },
          "metadata": {
            "tags": []
          },
          "execution_count": 20
        }
      ]
    },
    {
      "cell_type": "code",
      "metadata": {
        "id": "iGvs378NHWyz",
        "colab_type": "code",
        "colab": {
          "base_uri": "https://localhost:8080/",
          "height": 34
        },
        "outputId": "d0f0e7e0-734c-490c-b39a-9b729068bde1"
      },
      "source": [
        "#Missing values\n",
        "X_train.isnull().values.any()"
      ],
      "execution_count": null,
      "outputs": [
        {
          "output_type": "execute_result",
          "data": {
            "text/plain": [
              "False"
            ]
          },
          "metadata": {
            "tags": []
          },
          "execution_count": 23
        }
      ]
    }
  ]
}